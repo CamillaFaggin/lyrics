{
 "cells": [
  {
   "cell_type": "code",
   "execution_count": 1,
   "metadata": {},
   "outputs": [],
   "source": [
    "import json\n",
    "import requests\n"
   ]
  },
  {
   "cell_type": "code",
   "execution_count": 2,
   "metadata": {},
   "outputs": [],
   "source": [
    "base_url = \"https://api.lyrics.ovh/v1/\""
   ]
  },
  {
   "cell_type": "code",
   "execution_count": 19,
   "metadata": {},
   "outputs": [],
   "source": [
    "song_title = \"Yellow\""
   ]
  },
  {
   "cell_type": "code",
   "execution_count": 20,
   "metadata": {},
   "outputs": [],
   "source": [
    "artist_name = \"Coldplay\""
   ]
  },
  {
   "cell_type": "code",
   "execution_count": 21,
   "metadata": {},
   "outputs": [],
   "source": [
    "search_url = base_url + artist_name + '/' + song_title"
   ]
  },
  {
   "cell_type": "code",
   "execution_count": 22,
   "metadata": {},
   "outputs": [],
   "source": [
    "#response1 = requests.get(base_url)"
   ]
  },
  {
   "cell_type": "code",
   "execution_count": 23,
   "metadata": {},
   "outputs": [],
   "source": [
    "#print(response1)"
   ]
  },
  {
   "cell_type": "code",
   "execution_count": 24,
   "metadata": {},
   "outputs": [],
   "source": [
    "#jsonfile=json.get(response1)"
   ]
  },
  {
   "cell_type": "code",
   "execution_count": 25,
   "metadata": {},
   "outputs": [
    {
     "name": "stdout",
     "output_type": "stream",
     "text": [
      "<Response [200]>\n"
     ]
    }
   ],
   "source": [
    "r = requests.get(search_url)\n",
    "print(r)"
   ]
  },
  {
   "cell_type": "code",
   "execution_count": 26,
   "metadata": {},
   "outputs": [
    {
     "name": "stdout",
     "output_type": "stream",
     "text": [
      "{'lyrics': ''}\n"
     ]
    }
   ],
   "source": [
    "print (r.json())"
   ]
  },
  {
   "cell_type": "code",
   "execution_count": 3,
   "metadata": {},
   "outputs": [
    {
     "name": "stdout",
     "output_type": "stream",
     "text": [
      "Yellow\n",
      "Coldplay\n"
     ]
    }
   ],
   "source": [
    "songtit2=input()#parole con +\n",
    "artist=input() #Nome+Cognome"
   ]
  },
  {
   "cell_type": "code",
   "execution_count": 76,
   "metadata": {},
   "outputs": [],
   "source": [
    "search_url2 = base_url + artist + '/' + songtit2"
   ]
  },
  {
   "cell_type": "code",
   "execution_count": 77,
   "metadata": {},
   "outputs": [
    {
     "name": "stdout",
     "output_type": "stream",
     "text": [
      "<Response [200]>\n"
     ]
    }
   ],
   "source": [
    "r2 = requests.get(search_url2)\n",
    "print(r2)"
   ]
  },
  {
   "cell_type": "code",
   "execution_count": 78,
   "metadata": {},
   "outputs": [
    {
     "name": "stdout",
     "output_type": "stream",
     "text": [
      "{'lyrics': \"Look at the stars\\r\\nlook how they shine for you\\r\\nand everything you do\\r\\nyeah they were all yellow\\r\\nI came along \\nI wrote a song for you\\n\\nand all the things you do\\n\\nand it was called yellow\\n\\nSo then I took my turn \\n\\noh what a thing to have done\\n\\nand it was all yellow\\n\\n\\n\\nyour skin\\n\\noh yeah your skin and bones\\n\\nturn into something beautiful\\n\\nand you know\\n\\nyou know I love you so\\n\\nyou know I love you so\\n\\n\\n\\nI swam across\\n\\nI jumped across for you\\n\\noh what a thing to do\\n\\n'cos you were all yellow\\n\\nI drew a line\\n\\nI drew a line for you\\n\\noh what a thing to do\\n\\nand it was all yellow\\n\\n\\n\\nand your skin\\n\\noh yeah your skin and bones\\n\\nturn into something beautiful\\n\\nand you know\\n\\nfor you I bleed myself dry\\n\\nfor you I bleed myself dry\\n\\n\\n\\nit's true\\n\\nlook how they shine for you\\n\\nlook how they shine for you\\n\\nlook how they shine for\\n\\nlook how they shine for you\\n\\nlook how they shine for you\\n\\nlook how they shine\\n\\n\\n\\nlook at the stars\\n\\nlook how they shine for you\\n\\nand all the things that you do\"}\n"
     ]
    }
   ],
   "source": [
    "lyr=r2.json()\n",
    "print(lyr)"
   ]
  },
  {
   "cell_type": "code",
   "execution_count": 79,
   "metadata": {},
   "outputs": [
    {
     "data": {
      "text/plain": [
       "\"Look at the stars\\r\\nlook how they shine for you\\r\\nand everything you do\\r\\nyeah they were all yellow\\r\\nI came along \\nI wrote a song for you\\n\\nand all the things you do\\n\\nand it was called yellow\\n\\nSo then I took my turn \\n\\noh what a thing to have done\\n\\nand it was all yellow\\n\\n\\n\\nyour skin\\n\\noh yeah your skin and bones\\n\\nturn into something beautiful\\n\\nand you know\\n\\nyou know I love you so\\n\\nyou know I love you so\\n\\n\\n\\nI swam across\\n\\nI jumped across for you\\n\\noh what a thing to do\\n\\n'cos you were all yellow\\n\\nI drew a line\\n\\nI drew a line for you\\n\\noh what a thing to do\\n\\nand it was all yellow\\n\\n\\n\\nand your skin\\n\\noh yeah your skin and bones\\n\\nturn into something beautiful\\n\\nand you know\\n\\nfor you I bleed myself dry\\n\\nfor you I bleed myself dry\\n\\n\\n\\nit's true\\n\\nlook how they shine for you\\n\\nlook how they shine for you\\n\\nlook how they shine for\\n\\nlook how they shine for you\\n\\nlook how they shine for you\\n\\nlook how they shine\\n\\n\\n\\nlook at the stars\\n\\nlook how they shine for you\\n\\nand all the things that you do\""
      ]
     },
     "execution_count": 79,
     "metadata": {},
     "output_type": "execute_result"
    }
   ],
   "source": [
    "a=lyr['lyrics']\n",
    "a"
   ]
  },
  {
   "cell_type": "code",
   "execution_count": 73,
   "metadata": {},
   "outputs": [],
   "source": [
    "#b=a.split(sep='\\n')"
   ]
  },
  {
   "cell_type": "code",
   "execution_count": 80,
   "metadata": {},
   "outputs": [
    {
     "name": "stdout",
     "output_type": "stream",
     "text": [
      "Look at the stars\r\n",
      "look how they shine for you\r\n",
      "and everything you do\r\n",
      "yeah they were all yellow\r\n",
      "I came along \n",
      "I wrote a song for you\n",
      "\n",
      "and all the things you do\n",
      "\n",
      "and it was called yellow\n",
      "\n",
      "So then I took my turn \n",
      "\n",
      "oh what a thing to have done\n",
      "\n",
      "and it was all yellow\n",
      "\n",
      "\n",
      "\n",
      "your skin\n",
      "\n",
      "oh yeah your skin and bones\n",
      "\n",
      "turn into something beautiful\n",
      "\n",
      "and you know\n",
      "\n",
      "you know I love you so\n",
      "\n",
      "you know I love you so\n",
      "\n",
      "\n",
      "\n",
      "I swam across\n",
      "\n",
      "I jumped across for you\n",
      "\n",
      "oh what a thing to do\n",
      "\n",
      "'cos you were all yellow\n",
      "\n",
      "I drew a line\n",
      "\n",
      "I drew a line for you\n",
      "\n",
      "oh what a thing to do\n",
      "\n",
      "and it was all yellow\n",
      "\n",
      "\n",
      "\n",
      "and your skin\n",
      "\n",
      "oh yeah your skin and bones\n",
      "\n",
      "turn into something beautiful\n",
      "\n",
      "and you know\n",
      "\n",
      "for you I bleed myself dry\n",
      "\n",
      "for you I bleed myself dry\n",
      "\n",
      "\n",
      "\n",
      "it's true\n",
      "\n",
      "look how they shine for you\n",
      "\n",
      "look how they shine for you\n",
      "\n",
      "look how they shine for\n",
      "\n",
      "look how they shine for you\n",
      "\n",
      "look how they shine for you\n",
      "\n",
      "look how they shine\n",
      "\n",
      "\n",
      "\n",
      "look at the stars\n",
      "\n",
      "look how they shine for you\n",
      "\n",
      "and all the things that you do\n"
     ]
    }
   ],
   "source": [
    "def listToString(b):  \n",
    "    \n",
    "    # initialize an empty string \n",
    "    str1 = \"\"  \n",
    "    \n",
    "    # traverse in the string   \n",
    "    for ele in b:  \n",
    "        str1 += ele   \n",
    "    \n",
    "    # return string   \n",
    "    return str1  \n",
    "        \n",
    "        \n",
    "# Driver code     \n",
    "\n",
    "print(listToString(a))  "
   ]
  },
  {
   "cell_type": "code",
   "execution_count": null,
   "metadata": {},
   "outputs": [],
   "source": []
  }
 ],
 "metadata": {
  "kernelspec": {
   "display_name": "Python 3",
   "language": "python",
   "name": "python3"
  },
  "language_info": {
   "codemirror_mode": {
    "name": "ipython",
    "version": 3
   },
   "file_extension": ".py",
   "mimetype": "text/x-python",
   "name": "python",
   "nbconvert_exporter": "python",
   "pygments_lexer": "ipython3",
   "version": "3.7.1"
  }
 },
 "nbformat": 4,
 "nbformat_minor": 2
}
