{
 "cells": [
  {
   "cell_type": "code",
   "execution_count": null,
   "metadata": {},
   "outputs": [],
   "source": [
    "import json\n",
    "import requests"
   ]
  },
  {
   "cell_type": "code",
   "execution_count": null,
   "metadata": {},
   "outputs": [],
   "source": [
    "def get_lyrics():\n",
    "    base_url = \"https://api.lyrics.ovh/v1/\"\n",
    "    \n",
    "    print()\n",
    "    \n",
    "    artist_name=input('Write the artist name here: ')\n",
    "    song_title=input('Write the song name here: ')\n",
    "    \n",
    "    search_url = base_url + artist_name + '/' + song_title\n",
    "    \n",
    "    print()\n",
    "    print()\n",
    "    \n",
    "    req = requests.get(search_url)\n",
    "    dict_lyrics=req.json()\n",
    "    list_lyr=dict_lyrics['lyrics']\n",
    "    \n",
    "    if len(list_lyr) == 0 :\n",
    "        print(\"We haven't found a lyrics for your research.\")\n",
    "        print(\"Please verify that you haven't mispelled, or try changing your song.\")    \n",
    "        \n",
    "        #artist_name2=input('Write the artist name here: ')\n",
    "        #song_title2=input('Write the song name here: ')\n",
    "        #break\n",
    "        \n",
    "    else:\n",
    "        print('The lyrics is: ')\n",
    "        \n",
    "    \n",
    "    print( list_lyr )\n",
    "\n",
    "return get_lyrics()"
   ]
  },
  {
   "cell_type": "code",
   "execution_count": null,
   "metadata": {},
   "outputs": [],
   "source": []
  }
 ],
 "metadata": {
  "kernelspec": {
   "display_name": "Python 3",
   "language": "python",
   "name": "python3"
  },
  "language_info": {
   "codemirror_mode": {
    "name": "ipython",
    "version": 3
   },
   "file_extension": ".py",
   "mimetype": "text/x-python",
   "name": "python",
   "nbconvert_exporter": "python",
   "pygments_lexer": "ipython3",
   "version": "3.7.1"
  }
 },
 "nbformat": 4,
 "nbformat_minor": 2
}
