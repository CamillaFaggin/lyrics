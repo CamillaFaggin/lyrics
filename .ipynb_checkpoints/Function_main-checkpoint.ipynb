{
 "cells": [
  {
   "cell_type": "code",
   "execution_count": 6,
   "metadata": {},
   "outputs": [],
   "source": [
    "import json\n",
    "import requests\n",
    "import csv"
   ]
  },
  {
   "cell_type": "code",
   "execution_count": null,
   "metadata": {},
   "outputs": [
    {
     "name": "stdout",
     "output_type": "stream",
     "text": [
      "\n"
     ]
    }
   ],
   "source": [
    "def get_lyrics():\n",
    "    base_url = \"https://api.lyrics.ovh/v1/\"\n",
    "    \n",
    "    print()\n",
    "    \n",
    "    artist_name=input('Write the artist name here: ')\n",
    "    song_title=input('Write the song name here: ')\n",
    "    \n",
    "    search_url = base_url + artist_name + '/' + song_title\n",
    "    \n",
    "    print()\n",
    "    print()\n",
    "    \n",
    "    req = requests.get(search_url)\n",
    "    dict_lyrics=req.json()\n",
    "    list_lyr=dict_lyrics['lyrics']\n",
    "    \n",
    "    with open('lyrics.csv', 'w', newline='') as file:\n",
    "        writer = csv.writer(file)\n",
    "        writer.writerow([\"artist\", \"song\", \"lyrics\"])\n",
    "        writer.writerow([artist_name, song_title, list_lyr])\n",
    "\n",
    "    \n",
    "    csv.register_dialect('csv_dialect',\n",
    "                    delimiter='|',\n",
    "                    skipinitialspace=False,\n",
    "                    quoting=csv.QUOTE_ALL)\n",
    "    \n",
    "    with open('lyrics.csv', 'r') as csvfile:\n",
    "        reader = csv.reader(csvfile, delimiter=\" \", quotechar='|')\n",
    "        for row in reader:\n",
    "            print(', '.join(row))\n",
    "            \n",
    "    \n",
    "    if len(list_lyr) == 0 :\n",
    "        print(\"We haven't found a lyrics for your research.\")\n",
    "        print(\"Please verify that you haven't mispelled, or try changing your song.\")    \n",
    "        \n",
    "        #artist_name2=input('Write the artist name here: ')\n",
    "        #song_title2=input('Write the song name here: ')\n",
    "        #break\n",
    "        \n",
    "    else:\n",
    "        print('The lyrics is: ')\n",
    "        \n",
    "    \n",
    "print(get_lyrics())\n"
   ]
  },
  {
   "cell_type": "code",
   "execution_count": null,
   "metadata": {},
   "outputs": [],
   "source": []
  }
 ],
 "metadata": {
  "kernelspec": {
   "display_name": "Python 3",
   "language": "python",
   "name": "python3"
  },
  "language_info": {
   "codemirror_mode": {
    "name": "ipython",
    "version": 3
   },
   "file_extension": ".py",
   "mimetype": "text/x-python",
   "name": "python",
   "nbconvert_exporter": "python",
   "pygments_lexer": "ipython3",
   "version": "3.8.3"
  }
 },
 "nbformat": 4,
 "nbformat_minor": 2
}
