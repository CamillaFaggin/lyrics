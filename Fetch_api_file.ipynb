{
 "cells": [
  {
   "cell_type": "code",
   "execution_count": 1,
   "metadata": {},
   "outputs": [],
   "source": [
    "import json\n",
    "import requests\n"
   ]
  },
  {
   "cell_type": "code",
   "execution_count": 2,
   "metadata": {},
   "outputs": [],
   "source": [
    "base_url = \"https://api.lyrics.ovh/v1/\""
   ]
  },
  {
   "cell_type": "code",
   "execution_count": 19,
   "metadata": {},
   "outputs": [],
   "source": [
    "song_title = \"Yellow\""
   ]
  },
  {
   "cell_type": "code",
   "execution_count": 20,
   "metadata": {},
   "outputs": [],
   "source": [
    "artist_name = \"Coldplay\""
   ]
  },
  {
   "cell_type": "code",
   "execution_count": 21,
   "metadata": {},
   "outputs": [],
   "source": [
    "search_url = base_url + artist_name + '/' + song_title"
   ]
  },
  {
   "cell_type": "code",
   "execution_count": 22,
   "metadata": {},
   "outputs": [],
   "source": [
    "#response1 = requests.get(base_url)"
   ]
  },
  {
   "cell_type": "code",
   "execution_count": 23,
   "metadata": {},
   "outputs": [],
   "source": [
    "#print(response1)"
   ]
  },
  {
   "cell_type": "code",
   "execution_count": 24,
   "metadata": {},
   "outputs": [],
   "source": [
    "#jsonfile=json.get(response1)"
   ]
  },
  {
   "cell_type": "code",
   "execution_count": 25,
   "metadata": {},
   "outputs": [
    {
     "name": "stdout",
     "output_type": "stream",
     "text": [
      "<Response [200]>\n"
     ]
    }
   ],
   "source": [
    "r = requests.get(search_url)\n",
    "print(r)"
   ]
  },
  {
   "cell_type": "code",
   "execution_count": 26,
   "metadata": {},
   "outputs": [
    {
     "name": "stdout",
     "output_type": "stream",
     "text": [
      "{'lyrics': ''}\n"
     ]
    }
   ],
   "source": [
    "print (r.json())"
   ]
  },
  {
   "cell_type": "code",
   "execution_count": 9,
   "metadata": {},
   "outputs": [
    {
     "name": "stdout",
     "output_type": "stream",
     "text": [
      "Born this way\n",
      "Lady GaGa\n"
     ]
    }
   ],
   "source": [
    "songtit2=input()#parole con +\n",
    "artist=input() #Nome+Cognome"
   ]
  },
  {
   "cell_type": "code",
   "execution_count": 10,
   "metadata": {},
   "outputs": [],
   "source": [
    "search_url2 = base_url + artist + '/' + songtit2"
   ]
  },
  {
   "cell_type": "code",
   "execution_count": 11,
   "metadata": {},
   "outputs": [
    {
     "name": "stdout",
     "output_type": "stream",
     "text": [
      "<Response [200]>\n"
     ]
    }
   ],
   "source": [
    "r2 = requests.get(search_url2)\n",
    "print(r2)"
   ]
  },
  {
   "cell_type": "code",
   "execution_count": 12,
   "metadata": {},
   "outputs": [
    {
     "name": "stdout",
     "output_type": "stream",
     "text": [
      "{'lyrics': 'It doesn\\'t matter if you love him,Or capital H-I-M\\nJust put your paws up\\'cause you were born this way, baby\\n\\nMy mama told me when I was young\\nWe are all born superstars\\nShe rolled my hair and put my lipstick on\\n\\nIn the glass of her boudoir\\n\\n\"there\\'s nothin wrong with lovin who you are\"She said, \"\\'cause he made you perfect, babe\"\\n\\n\"so hold your head up girl and you\\'ll go far,\\n\\nListen to me when I say\"\\n\\n\\n\\nI\\'m beautiful in my way\\'cause god makes no mistakes\\n\\nI\\'m on the right track baby\\n\\nI was born this way\\n\\nDon\\'t hide yourself in regret\\n\\nJust love yourself and you\\'re set\\n\\nI\\'m on the right track babyI was born this way\\n\\n\\n\\nOoo there ain\\'t no other way\\n\\nBaby I was born this way\\n\\nBaby I was born this way\\n\\nOoo there ain\\'t no other way\\n\\nBaby I was born this way\\n\\nI\\'m on the right track baby\\n\\nI was born this way\\n\\n\\n\\nDon\\'t be a drag - just be a queen\\n\\nDon\\'t be a drag - just be a queen\\n\\nDon\\'t be a drag - just be a queen\\n\\nDon\\'t be!\\n\\n\\n\\nGive yourself prudence\\n\\nAnd love your friends\\n\\nSubway kid, rejoice your truth\\n\\nIn the religion of the insecure\\n\\nI must be myself, respect my youth\\n\\nA different lover is not a sin\\n\\nBelieve capital h-i-m (hey hey hey)\\n\\nI love my life I love this record and\\n\\nMi amore vole fe yah (love needs faith)\\n\\n\\n\\nI\\'m beautiful in my way\\'cause god makes no mistakes\\n\\nI\\'m on the right track baby\\n\\nI was born this way\\n\\nDon\\'t hide yourself in regret\\n\\nJust love yourself and you\\'re set\\n\\nI\\'m on the right track baby\\n\\nI was born this way\\n\\n\\n\\nOoo there ain\\'t no other way\\n\\nBaby I was born this way\\n\\nBaby I was born this way\\n\\nOoo there ain\\'t no other way\\n\\nBaby I was born... I\\'m on the right track babyI was born this way\\n\\n\\n\\nDon\\'t be a drag, just be a queen\\n\\nWhether you\\'re broke or evergreen\\n\\nYou\\'re black, white, beige, chola descent\\n\\nYou\\'re lebanese, you\\'re orient\\n\\nWhether life\\'s disabilities\\n\\nLeft you outcast, bullied, or teased\\n\\nRejoice and love yourself today\\'cause baby you were born this way\\n\\nNo matter gay, straight, or bi,Lesbian, transgendered life\\n\\nI\\'m on the right track baby\\n\\nI was born to survive\\n\\nNo matter black, white or beigeChola or orient made\\n\\nI\\'m on the right track baby\\n\\nI was born to be brave\\n\\n\\n\\nI\\'m beautiful in my way\\'cause god makes no mistakes\\n\\nI\\'m on the right track baby\\n\\nI was born this way\\n\\nDon\\'t hide yourself in regret\\n\\nJust love yourself and you\\'re set\\n\\nI\\'m on the right track baby\\n\\nI was born this way\\n\\n\\n\\nooh there ain\\'t no other way\\n\\nI was born this way\\n\\nbaby i was born this way\\n\\nooh there ain\\'t no other way\\n\\nI was born this way\\n\\nbaby i was born this way\\n\\n\\n\\nI was born this way hey!\\n\\nI was born this way hey!\\n\\nI\\'m on the right track baby\\n\\nI was born this way hey!\\n\\nI was born this way hey!\\n\\nI was born this way hey!\\n\\nI\\'m on the right track baby\\n\\nI was born this way hey!'}\n"
     ]
    }
   ],
   "source": [
    "lyr=r2.json()\n",
    "print(lyr)"
   ]
  },
  {
   "cell_type": "code",
   "execution_count": 13,
   "metadata": {},
   "outputs": [
    {
     "data": {
      "text/plain": [
       "'It doesn\\'t matter if you love him,Or capital H-I-M\\nJust put your paws up\\'cause you were born this way, baby\\n\\nMy mama told me when I was young\\nWe are all born superstars\\nShe rolled my hair and put my lipstick on\\n\\nIn the glass of her boudoir\\n\\n\"there\\'s nothin wrong with lovin who you are\"She said, \"\\'cause he made you perfect, babe\"\\n\\n\"so hold your head up girl and you\\'ll go far,\\n\\nListen to me when I say\"\\n\\n\\n\\nI\\'m beautiful in my way\\'cause god makes no mistakes\\n\\nI\\'m on the right track baby\\n\\nI was born this way\\n\\nDon\\'t hide yourself in regret\\n\\nJust love yourself and you\\'re set\\n\\nI\\'m on the right track babyI was born this way\\n\\n\\n\\nOoo there ain\\'t no other way\\n\\nBaby I was born this way\\n\\nBaby I was born this way\\n\\nOoo there ain\\'t no other way\\n\\nBaby I was born this way\\n\\nI\\'m on the right track baby\\n\\nI was born this way\\n\\n\\n\\nDon\\'t be a drag - just be a queen\\n\\nDon\\'t be a drag - just be a queen\\n\\nDon\\'t be a drag - just be a queen\\n\\nDon\\'t be!\\n\\n\\n\\nGive yourself prudence\\n\\nAnd love your friends\\n\\nSubway kid, rejoice your truth\\n\\nIn the religion of the insecure\\n\\nI must be myself, respect my youth\\n\\nA different lover is not a sin\\n\\nBelieve capital h-i-m (hey hey hey)\\n\\nI love my life I love this record and\\n\\nMi amore vole fe yah (love needs faith)\\n\\n\\n\\nI\\'m beautiful in my way\\'cause god makes no mistakes\\n\\nI\\'m on the right track baby\\n\\nI was born this way\\n\\nDon\\'t hide yourself in regret\\n\\nJust love yourself and you\\'re set\\n\\nI\\'m on the right track baby\\n\\nI was born this way\\n\\n\\n\\nOoo there ain\\'t no other way\\n\\nBaby I was born this way\\n\\nBaby I was born this way\\n\\nOoo there ain\\'t no other way\\n\\nBaby I was born... I\\'m on the right track babyI was born this way\\n\\n\\n\\nDon\\'t be a drag, just be a queen\\n\\nWhether you\\'re broke or evergreen\\n\\nYou\\'re black, white, beige, chola descent\\n\\nYou\\'re lebanese, you\\'re orient\\n\\nWhether life\\'s disabilities\\n\\nLeft you outcast, bullied, or teased\\n\\nRejoice and love yourself today\\'cause baby you were born this way\\n\\nNo matter gay, straight, or bi,Lesbian, transgendered life\\n\\nI\\'m on the right track baby\\n\\nI was born to survive\\n\\nNo matter black, white or beigeChola or orient made\\n\\nI\\'m on the right track baby\\n\\nI was born to be brave\\n\\n\\n\\nI\\'m beautiful in my way\\'cause god makes no mistakes\\n\\nI\\'m on the right track baby\\n\\nI was born this way\\n\\nDon\\'t hide yourself in regret\\n\\nJust love yourself and you\\'re set\\n\\nI\\'m on the right track baby\\n\\nI was born this way\\n\\n\\n\\nooh there ain\\'t no other way\\n\\nI was born this way\\n\\nbaby i was born this way\\n\\nooh there ain\\'t no other way\\n\\nI was born this way\\n\\nbaby i was born this way\\n\\n\\n\\nI was born this way hey!\\n\\nI was born this way hey!\\n\\nI\\'m on the right track baby\\n\\nI was born this way hey!\\n\\nI was born this way hey!\\n\\nI was born this way hey!\\n\\nI\\'m on the right track baby\\n\\nI was born this way hey!'"
      ]
     },
     "execution_count": 13,
     "metadata": {},
     "output_type": "execute_result"
    }
   ],
   "source": [
    "a=lyr['lyrics']\n",
    "a"
   ]
  },
  {
   "cell_type": "code",
   "execution_count": 73,
   "metadata": {},
   "outputs": [],
   "source": [
    "#b=a.split(sep='\\n')"
   ]
  },
  {
   "cell_type": "code",
   "execution_count": 14,
   "metadata": {},
   "outputs": [
    {
     "name": "stdout",
     "output_type": "stream",
     "text": [
      "It doesn't matter if you love him,Or capital H-I-M\n",
      "Just put your paws up'cause you were born this way, baby\n",
      "\n",
      "My mama told me when I was young\n",
      "We are all born superstars\n",
      "She rolled my hair and put my lipstick on\n",
      "\n",
      "In the glass of her boudoir\n",
      "\n",
      "\"there's nothin wrong with lovin who you are\"She said, \"'cause he made you perfect, babe\"\n",
      "\n",
      "\"so hold your head up girl and you'll go far,\n",
      "\n",
      "Listen to me when I say\"\n",
      "\n",
      "\n",
      "\n",
      "I'm beautiful in my way'cause god makes no mistakes\n",
      "\n",
      "I'm on the right track baby\n",
      "\n",
      "I was born this way\n",
      "\n",
      "Don't hide yourself in regret\n",
      "\n",
      "Just love yourself and you're set\n",
      "\n",
      "I'm on the right track babyI was born this way\n",
      "\n",
      "\n",
      "\n",
      "Ooo there ain't no other way\n",
      "\n",
      "Baby I was born this way\n",
      "\n",
      "Baby I was born this way\n",
      "\n",
      "Ooo there ain't no other way\n",
      "\n",
      "Baby I was born this way\n",
      "\n",
      "I'm on the right track baby\n",
      "\n",
      "I was born this way\n",
      "\n",
      "\n",
      "\n",
      "Don't be a drag - just be a queen\n",
      "\n",
      "Don't be a drag - just be a queen\n",
      "\n",
      "Don't be a drag - just be a queen\n",
      "\n",
      "Don't be!\n",
      "\n",
      "\n",
      "\n",
      "Give yourself prudence\n",
      "\n",
      "And love your friends\n",
      "\n",
      "Subway kid, rejoice your truth\n",
      "\n",
      "In the religion of the insecure\n",
      "\n",
      "I must be myself, respect my youth\n",
      "\n",
      "A different lover is not a sin\n",
      "\n",
      "Believe capital h-i-m (hey hey hey)\n",
      "\n",
      "I love my life I love this record and\n",
      "\n",
      "Mi amore vole fe yah (love needs faith)\n",
      "\n",
      "\n",
      "\n",
      "I'm beautiful in my way'cause god makes no mistakes\n",
      "\n",
      "I'm on the right track baby\n",
      "\n",
      "I was born this way\n",
      "\n",
      "Don't hide yourself in regret\n",
      "\n",
      "Just love yourself and you're set\n",
      "\n",
      "I'm on the right track baby\n",
      "\n",
      "I was born this way\n",
      "\n",
      "\n",
      "\n",
      "Ooo there ain't no other way\n",
      "\n",
      "Baby I was born this way\n",
      "\n",
      "Baby I was born this way\n",
      "\n",
      "Ooo there ain't no other way\n",
      "\n",
      "Baby I was born... I'm on the right track babyI was born this way\n",
      "\n",
      "\n",
      "\n",
      "Don't be a drag, just be a queen\n",
      "\n",
      "Whether you're broke or evergreen\n",
      "\n",
      "You're black, white, beige, chola descent\n",
      "\n",
      "You're lebanese, you're orient\n",
      "\n",
      "Whether life's disabilities\n",
      "\n",
      "Left you outcast, bullied, or teased\n",
      "\n",
      "Rejoice and love yourself today'cause baby you were born this way\n",
      "\n",
      "No matter gay, straight, or bi,Lesbian, transgendered life\n",
      "\n",
      "I'm on the right track baby\n",
      "\n",
      "I was born to survive\n",
      "\n",
      "No matter black, white or beigeChola or orient made\n",
      "\n",
      "I'm on the right track baby\n",
      "\n",
      "I was born to be brave\n",
      "\n",
      "\n",
      "\n",
      "I'm beautiful in my way'cause god makes no mistakes\n",
      "\n",
      "I'm on the right track baby\n",
      "\n",
      "I was born this way\n",
      "\n",
      "Don't hide yourself in regret\n",
      "\n",
      "Just love yourself and you're set\n",
      "\n",
      "I'm on the right track baby\n",
      "\n",
      "I was born this way\n",
      "\n",
      "\n",
      "\n",
      "ooh there ain't no other way\n",
      "\n",
      "I was born this way\n",
      "\n",
      "baby i was born this way\n",
      "\n",
      "ooh there ain't no other way\n",
      "\n",
      "I was born this way\n",
      "\n",
      "baby i was born this way\n",
      "\n",
      "\n",
      "\n",
      "I was born this way hey!\n",
      "\n",
      "I was born this way hey!\n",
      "\n",
      "I'm on the right track baby\n",
      "\n",
      "I was born this way hey!\n",
      "\n",
      "I was born this way hey!\n",
      "\n",
      "I was born this way hey!\n",
      "\n",
      "I'm on the right track baby\n",
      "\n",
      "I was born this way hey!\n"
     ]
    }
   ],
   "source": [
    "def listToString(b):  \n",
    "    \n",
    "    # initialize an empty string \n",
    "    str1 = \"\"  \n",
    "    \n",
    "    # traverse in the string   \n",
    "    for ele in b:  \n",
    "        str1 += ele   \n",
    "    \n",
    "    # return string   \n",
    "    return str1  \n",
    "        \n",
    "        \n",
    "# Driver code     \n",
    "\n",
    "print(listToString(a))  "
   ]
  },
  {
   "cell_type": "code",
   "execution_count": null,
   "metadata": {},
   "outputs": [],
   "source": []
  }
 ],
 "metadata": {
  "kernelspec": {
   "display_name": "Python 3",
   "language": "python",
   "name": "python3"
  },
  "language_info": {
   "codemirror_mode": {
    "name": "ipython",
    "version": 3
   },
   "file_extension": ".py",
   "mimetype": "text/x-python",
   "name": "python",
   "nbconvert_exporter": "python",
   "pygments_lexer": "ipython3",
   "version": "3.7.1"
  }
 },
 "nbformat": 4,
 "nbformat_minor": 2
}
